{
 "cells": [
  {
   "cell_type": "code",
   "execution_count": 131,
   "metadata": {},
   "outputs": [
    {
     "data": {
      "text/html": [
       "<script>\n",
       "code_show=true;\n",
       "function code_toggle() {\n",
       "if (code_show){\n",
       "$('div.input').hide();\n",
       "} else {\n",
       "$('div.input').show();\n",
       "}\n",
       "code_show = !code_show\n",
       "}\n",
       "$( document ).ready(code_toggle);\n",
       "</script>\n",
       "<form action=\"javascript:code_toggle()\"><input type=\"submit\" value=\"Click here to toggle on/off the raw code.\"></form>"
      ],
      "text/plain": [
       "<IPython.core.display.HTML object>"
      ]
     },
     "execution_count": 131,
     "metadata": {},
     "output_type": "execute_result"
    }
   ],
   "source": [
    "# This cell is used for creating a button that hides/unhides code cells to quickly look only the results.\n",
    "# Works only with Jupyter Notebooks.\n",
    "\n",
    "import os\n",
    "from IPython.display import HTML\n",
    "\n",
    "HTML('''<script>\n",
    "code_show=true;\n",
    "function code_toggle() {\n",
    "if (code_show){\n",
    "$('div.input').hide();\n",
    "} else {\n",
    "$('div.input').show();\n",
    "}\n",
    "code_show = !code_show\n",
    "}\n",
    "$( document ).ready(code_toggle);\n",
    "</script>\n",
    "<form action=\"javascript:code_toggle()\"><input type=\"submit\" value=\"Click here to toggle on/off the raw code.\"></form>''')"
   ]
  },
  {
   "cell_type": "code",
   "execution_count": 132,
   "metadata": {},
   "outputs": [
    {
     "name": "stdout",
     "output_type": "stream",
     "text": [
      "The data directory is /coursedata\n",
      "Data stored in /coursedata/exercise-07-data\n"
     ]
    }
   ],
   "source": [
    "# Description:\n",
    "#   Exercise7 notebook.\n",
    "#\n",
    "# Copyright (C) 2018 Santiago Cortes, Juha Ylioinas\n",
    "#\n",
    "# This software is distributed under the GNU General Public \n",
    "# Licence (version 2 or later); please refer to the file \n",
    "# Licence.txt, included with the software, for details.\n",
    "\n",
    "# Preparations\n",
    "import numpy as np\n",
    "import string\n",
    "import matplotlib.pyplot as plt\n",
    "\n",
    "# Select data directory\n",
    "if os.path.isdir('/coursedata'):\n",
    "    # JupyterHub\n",
    "    course_data_dir = '/coursedata'\n",
    "elif os.path.isdir('../../../coursedata'):\n",
    "    # Local installation\n",
    "    course_data_dir = '../../../coursedata'\n",
    "else:\n",
    "    # Docker\n",
    "    course_data_dir = '/home/jovyan/work/coursedata/'\n",
    "\n",
    "print('The data directory is %s' % course_data_dir)\n",
    "data_dir = os.path.join(course_data_dir, 'exercise-07-data')\n",
    "print('Data stored in %s' % data_dir)"
   ]
  },
  {
   "cell_type": "markdown",
   "metadata": {},
   "source": [
    "# CS-E4850 Computer Vision Exercise Round 7\n",
    "The problems should be solved before the exercise session and solutions returned via\n",
    "MyCourses. <br><br> For this exercise round, upload this notebook(pdf and .ipynb versions) containing your source codes (for Exercise 1) and your answer to the question of Exercise2, and all the answers to the questions of Exercise 3 (VGG practical), see part[1-3].ipynb. Note that it's not necessary to upload part1.ipynb, part2.ipynb or part3.ipynb, because all of the necessary questions related to them are contained in this notebook and you're not expected to do any coding in Exercises 2 and 3."
   ]
  },
  {
   "cell_type": "markdown",
   "metadata": {},
   "source": [
    "## Exercise 1 - Comparing  bags-of-words  with  tf-idf  weighting\n",
    "Assume  that  we  have  an  indexed  collection  of  documents  containing  the  five  terms  of the following table where the second row indicates the percentage of documents in which each term appears.<br>\n",
    "\n",
    "| term | cat | dog |mammals | mouse | pet |\n",
    "| --- | :---: | :---: | :---: | :---: | :---: |\n",
    "| **% of documents** | 5 | 20 | 2 | 10 | 60 |\n",
    "\n",
    "Now, given the query $Q=\\{mouse, cat, pet, mammals\\}$, compute the similarity between $Q$ and the following example documents $D1$, $D2$, $D3$, by using the cosine similarity measure and tf-idf weights (i.e. term frequency - inverse document frequency) for the bag-of-words histogram representations of the documents and the query.\n",
    "\n",
    "-  $D1$ = Cat is a pet, dog is a pet, and mouse may be a pet too.\n",
    "-  $D2$ = Cat, dog and mouse are all mammals.\n",
    "-  $D3$ = Cat and dog get along well, but cat may eat a mouse.\n",
    "\n",
    "Ignore other words except the five terms. You may proceed with the following steps:\n",
    "\n",
    "a) Compute and report the inverse document frequency (idf) for each of the five terms. Use the logarithm with base 2. (idf is the logarithm on slide 69 of Lecture 6.)<br>\n",
    "b) Compute the term frequencies for the query and each document. <br>\n",
    "c) Form the tf-idf weighted word occurrence histograms for the query and documents. <br>\n",
    "d) Evaluate the cosine similarity between the query and each document (i.e.\\ normalized scalar product between the weighted occurrence histograms as shown on slide 45).<br> \n",
    "e) Report the relative ranking of the documents. (You should get similarities 0.95, 0.64, and 0.63, but you need to determine which corresponds to which document.)<br>"
   ]
  },
  {
   "cell_type": "code",
   "execution_count": 133,
   "metadata": {},
   "outputs": [],
   "source": [
    "Q_array = ['mouse', 'cat', 'pet', 'mammals']\n",
    "terms = ['cat', 'dog', 'mammals', 'mouse', 'pet']\n",
    "D1 = \"Cat is a pet, dog is a pet, and mouse may be a pet too.\".lower()\n",
    "D2 = \"Cat, dog and mouse are all mammals.\".lower()\n",
    "D3 = \"Cat and dog get along well, but cat may eat a mouse.\".lower()\n",
    "term_frequency = {'cat': 0.05, 'dog': 0.2, 'mammals': 0.02, 'mouse': 0.1, 'pet': 0.6}\n",
    "\n",
    "\n",
    "def calculate_idf_terms(term_frequency):\n",
    "    terms_idf = {}\n",
    "    \n",
    "    for term, freq in term_frequency.items():\n",
    "        idf_score = np.log2(1 / freq)\n",
    "        terms_idf[term] = idf_score\n",
    "    \n",
    "    return terms_idf\n",
    "\n",
    "def get_words(sentence):\n",
    "    \"\"\" Get all words out of sentence which is a string and lower all words and remove punctuation\n",
    "    params:\n",
    "        sentence: string\n",
    "    \"\"\"\n",
    "    # lower case\n",
    "    sentence = sentence.lower()\n",
    "    \n",
    "    # remove punctuation\n",
    "    exclude = set(string.punctuation)\n",
    "    sentence_clean = ''.join(ch for ch in sentence if ch not in exclude)\n",
    "    \n",
    "    # create array of words from sentence \n",
    "    word_array = sentence_clean.split()\n",
    "    \n",
    "    return word_array\n",
    "\n",
    "def calculate_term_freq(terms, document):\n",
    "    term_freq_dict = {}\n",
    "    \n",
    "    for term in terms:\n",
    "        n_id = document.count(term)\n",
    "        n_d = len(document)\n",
    "        \n",
    "        term_freq = n_id / n_d\n",
    "        term_freq_dict[term] = round(term_freq, 4)\n",
    "        \n",
    "    return term_freq_dict\n",
    "    \n",
    "def calculate_idf_weighted(terms, term_frequency, term_idf):\n",
    "    weighted_idf_dict = {}\n",
    "    \n",
    "    for term in terms:\n",
    "        weighted_idf_dict[term] = term_frequency[term] * term_idf[term]\n",
    "    \n",
    "    return weighted_idf_dict\n",
    "\n",
    "def cosine_similarity(terms, query, doc):\n",
    "    nominator = np.sum( [query[term]*doc[term] for term in terms] )\n",
    "    \n",
    "    denominator = np.sqrt( np.sum([query[term]**2 for term in terms]) ) * np.sqrt( np.sum([doc[term]**2 for term in terms]) )\n",
    "    \n",
    "    score = nominator / denominator\n",
    "    return score"
   ]
  },
  {
   "cell_type": "code",
   "execution_count": 134,
   "metadata": {},
   "outputs": [
    {
     "name": "stdout",
     "output_type": "stream",
     "text": [
      "idf of terms: \n"
     ]
    },
    {
     "data": {
      "text/plain": [
       "{'cat': 4.321928094887363,\n",
       " 'dog': 2.321928094887362,\n",
       " 'mammals': 5.643856189774724,\n",
       " 'mouse': 3.321928094887362,\n",
       " 'pet': 0.7369655941662062}"
      ]
     },
     "execution_count": 134,
     "metadata": {},
     "output_type": "execute_result"
    }
   ],
   "source": [
    "# a)\n",
    "\n",
    "idf_terms_dict = calculate_idf_terms(term_frequency)\n",
    "print(\"idf of terms: \")\n",
    "idf_terms_dict"
   ]
  },
  {
   "cell_type": "code",
   "execution_count": 135,
   "metadata": {},
   "outputs": [
    {
     "name": "stdout",
     "output_type": "stream",
     "text": [
      "term frequency Q:  {'cat': 0.25, 'dog': 0.0, 'mammals': 0.25, 'mouse': 0.25, 'pet': 0.25}\n",
      "term frequency D1:  {'cat': 0.0667, 'dog': 0.0667, 'mammals': 0.0, 'mouse': 0.0667, 'pet': 0.2}\n",
      "term frequency D2:  {'cat': 0.1429, 'dog': 0.1429, 'mammals': 0.1429, 'mouse': 0.1429, 'pet': 0.0}\n",
      "term frequency D3:  {'cat': 0.1667, 'dog': 0.0833, 'mammals': 0.0, 'mouse': 0.0833, 'pet': 0.0}\n"
     ]
    }
   ],
   "source": [
    "# b)\n",
    "\n",
    "# split sentences into word arrays\n",
    "D1_array = get_words(D1)\n",
    "D2_array = get_words(D2)\n",
    "D3_array = get_words(D3)\n",
    "\n",
    "term_freq_Q  = calculate_term_freq(terms, Q_array)\n",
    "term_freq_D1 = calculate_term_freq(terms, D1_array)\n",
    "term_freq_D2 = calculate_term_freq(terms, D2_array)\n",
    "term_freq_D3 = calculate_term_freq(terms, D3_array)\n",
    "\n",
    "print(\"term frequency Q: \", term_freq_Q)\n",
    "print(\"term frequency D1: \", term_freq_D1)\n",
    "print(\"term frequency D2: \", term_freq_D2)\n",
    "print(\"term frequency D3: \", term_freq_D3)"
   ]
  },
  {
   "cell_type": "code",
   "execution_count": 136,
   "metadata": {},
   "outputs": [
    {
     "name": "stdout",
     "output_type": "stream",
     "text": [
      "weighted idf Q {'cat': 1.0804820237218407, 'dog': 0.0, 'mammals': 1.410964047443681, 'mouse': 0.8304820237218405, 'pet': 0.18424139854155155}\n",
      "weighted idf D1 {'cat': 0.28827260392898707, 'dog': 0.15487260392898705, 'mammals': 0.0, 'mouse': 0.22157260392898703, 'pet': 0.14739311883324124}\n",
      "weighted idf D2 {'cat': 0.6176035247594042, 'dog': 0.33180352475940406, 'mammals': 0.8065070495188081, 'mouse': 0.474703524759404, 'pet': 0.0}\n",
      "weighted idf D3 {'cat': 0.7204654134177233, 'dog': 0.19341661030411728, 'mammals': 0.0, 'mouse': 0.27671661030411726, 'pet': 0.0}\n"
     ]
    }
   ],
   "source": [
    "# c)\n",
    "\n",
    "# tf-idf weighted word occurrence\n",
    "weighted_idf_Q  = calculate_idf_weighted(terms, term_freq_Q,  idf_terms_dict)\n",
    "weighted_idf_D1 = calculate_idf_weighted(terms, term_freq_D1, idf_terms_dict)\n",
    "weighted_idf_D2 = calculate_idf_weighted(terms, term_freq_D2, idf_terms_dict)\n",
    "weighted_idf_D3 = calculate_idf_weighted(terms, term_freq_D3, idf_terms_dict)\n",
    "\n",
    "print(\"weighted idf Q\", weighted_idf_Q)\n",
    "print(\"weighted idf D1\", weighted_idf_D1)\n",
    "print(\"weighted idf D2\", weighted_idf_D2)\n",
    "print(\"weighted idf D3\", weighted_idf_D3)"
   ]
  },
  {
   "cell_type": "code",
   "execution_count": 137,
   "metadata": {},
   "outputs": [
    {
     "data": {
      "image/png": "[encoded data removed]",
      "text/plain": [
       "<Figure size 432x288 with 1 Axes>"
      ]
     },
     "metadata": {
      "needs_background": "light"
     },
     "output_type": "display_data"
    },
    {
     "data": {
      "image/png": "[encoded data removed]",
      "text/plain": [
       "<Figure size 432x288 with 1 Axes>"
      ]
     },
     "metadata": {
      "needs_background": "light"
     },
     "output_type": "display_data"
    },
    {
     "data": {
      "image/png": "[encoded data removed]",
      "text/plain": [
       "<Figure size 432x288 with 1 Axes>"
      ]
     },
     "metadata": {
      "needs_background": "light"
     },
     "output_type": "display_data"
    },
    {
     "data": {
      "image/png": "[encoded data removed]",
      "text/plain": [
       "<Figure size 432x288 with 1 Axes>"
      ]
     },
     "metadata": {
      "needs_background": "light"
     },
     "output_type": "display_data"
    }
   ],
   "source": [
    "# plot histograms\n",
    "\n",
    "plt.bar(weighted_idf_Q.keys(), weighted_idf_Q.values(), color='b')\n",
    "plt.title('Weighted idf of query')\n",
    "plt.show()\n",
    "\n",
    "plt.bar(weighted_idf_D1.keys(), weighted_idf_D1.values(), color='b')\n",
    "plt.title('Weighted idf of D1')\n",
    "plt.show()\n",
    "\n",
    "plt.bar(weighted_idf_D2.keys(), weighted_idf_D2.values(), color='b')\n",
    "plt.title('Weighted idf of D2')\n",
    "plt.show()\n",
    "\n",
    "plt.bar(weighted_idf_D3.keys(), weighted_idf_D3.values(), color='b')\n",
    "plt.title('Weighted idf of D3')\n",
    "plt.show()\n"
   ]
  },
  {
   "cell_type": "code",
   "execution_count": 138,
   "metadata": {},
   "outputs": [
    {
     "name": "stdout",
     "output_type": "stream",
     "text": [
      "cosine similarity Q and D1:  0.6289067101021564\n",
      "cosine similarity Q and D2:  0.9546948111493487\n",
      "cosine similarity Q and D3:  0.6431752760562872\n"
     ]
    }
   ],
   "source": [
    "# d)\n",
    "\n",
    "sim_Q_D1 = cosine_similarity(terms, weighted_idf_Q, weighted_idf_D1)\n",
    "sim_Q_D2 = cosine_similarity(terms, weighted_idf_Q, weighted_idf_D2)\n",
    "sim_Q_D3 = cosine_similarity(terms, weighted_idf_Q, weighted_idf_D3)\n",
    "\n",
    "print(\"cosine similarity Q and D1: \", sim_Q_D1)\n",
    "print(\"cosine similarity Q and D2: \", sim_Q_D2)\n",
    "print(\"cosine similarity Q and D3: \", sim_Q_D3)"
   ]
  },
  {
   "cell_type": "markdown",
   "metadata": {},
   "source": [
    "e)\n",
    "\n",
    "Relative ranking of the documents:\n",
    "\n",
    "D1: 0.63\n",
    "\n",
    "D2: 0.95\n",
    "\n",
    "D3: 0.64"
   ]
  },
  {
   "cell_type": "markdown",
   "metadata": {},
   "source": [
    "## Exercise 2 - Precision  and  recall\n",
    "There is a database of 10000 images and a user, who is only interested in images which contain a car. It is known that there are 500 such images in the database. An  automatic image retrieval system retrieves 300 car images and 50 other images from the database. Determine and report the precision and recall of the retrieval  system in this particularcase."
   ]
  },
  {
   "cell_type": "markdown",
   "metadata": {},
   "source": [
    "Type your answer here:\n",
    "\n",
    "In Lecture 06 slide 67 the scoring retrieval quality is addressed. Accoridng to lecture the definition for recall and precision are the following:\n",
    "\n",
    "* precision = #relevant / #returned\n",
    "* recall = #relevant / #total relevant\n",
    "\n",
    "Given in the description:\n",
    "* #relevant : from the retrieved images 300 (car images) are relevant\n",
    "* #returned : the automatic retrieval system retrieves 300 (car) + 50 (other) = 350\n",
    "* #total relevant : in total there are 500 car images in the database\n",
    "\n",
    "Solution:\n",
    "\n",
    "precision = 300 / 350 = 0.8571\n",
    "\n",
    "recall = 300 / 500 = 0.6"
   ]
  },
  {
   "cell_type": "markdown",
   "metadata": {},
   "source": [
    "## Exercise 3 - VGG practical on object instance recognition\n",
    "See the questions in part[1-3].ipynb and write your answers here.\n",
    "\n",
    "Part1:\n",
    "Stage I.A (two questions)\n",
    "Stage I.B (two questions)\n",
    "Stage I.C (one question)\n",
    "\n",
    "Part2 (one question)\n",
    "\n",
    "Part3:\n",
    "Stage III.A (three questions)\n",
    "Stage III.B (one question)\n",
    "Stage III.C (two questions)"
   ]
  },
  {
   "cell_type": "markdown",
   "metadata": {},
   "source": [
    "Type your answers here: "
   ]
  }
 ],
 "metadata": {
  "kernelspec": {
   "display_name": "Python 3",
   "language": "python",
   "name": "python3"
  },
  "language_info": {
   "codemirror_mode": {
    "name": "ipython",
    "version": 3
   },
   "file_extension": ".py",
   "mimetype": "text/x-python",
   "name": "python",
   "nbconvert_exporter": "python",
   "pygments_lexer": "ipython3",
   "version": "3.7.8"
  },
  "varInspector": {
   "cols": {
    "lenName": 16,
    "lenType": 16,
    "lenVar": 40
   },
   "kernels_config": {
    "python": {
     "delete_cmd_postfix": "",
     "delete_cmd_prefix": "del ",
     "library": "var_list.py",
     "varRefreshCmd": "print(var_dic_list())"
    },
    "r": {
     "delete_cmd_postfix": ") ",
     "delete_cmd_prefix": "rm(",
     "library": "var_list.r",
     "varRefreshCmd": "cat(var_dic_list()) "
    }
   },
   "types_to_exclude": [
    "module",
    "function",
    "builtin_function_or_method",
    "instance",
    "_Feature"
   ],
   "window_display": false
  }
 },
 "nbformat": 4,
 "nbformat_minor": 4
}
